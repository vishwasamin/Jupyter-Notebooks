{
  "metadata": {
    "language_info": {
      "codemirror_mode": {
        "name": "python",
        "version": 3
      },
      "file_extension": ".py",
      "mimetype": "text/x-python",
      "name": "python",
      "nbconvert_exporter": "python",
      "pygments_lexer": "ipython3",
      "version": "3.8"
    },
    "kernelspec": {
      "name": "python",
      "display_name": "Python (Pyodide)",
      "language": "python"
    }
  },
  "nbformat_minor": 4,
  "nbformat": 4,
  "cells": [
    {
      "cell_type": "markdown",
      "source": "# SQL Command Snippets",
      "metadata": {}
    },
    {
      "cell_type": "markdown",
      "source": "## 1. Create Table",
      "metadata": {}
    },
    {
      "cell_type": "code",
      "source": "CREATE TABLE logs(\n\tDate DATE,\n\tTime TIME,\n\tType VARCHAR(10),\n\tData VARCHAR(MAX))",
      "metadata": {},
      "execution_count": null,
      "outputs": []
    },
    {
      "cell_type": "markdown",
      "source": "## 2. Insert into table",
      "metadata": {}
    },
    {
      "cell_type": "code",
      "source": "INSERT INTO logs(Date, Time, Type, Data) \nVALUES ('Date_value', 'Time_value','Type_value', 'Data_value')",
      "metadata": {},
      "execution_count": null,
      "outputs": []
    },
    {
      "cell_type": "markdown",
      "source": "## 3. Bulk Insert from CSV file",
      "metadata": {}
    },
    {
      "cell_type": "code",
      "source": "BULK INSERT logs\nFROM 'F:\\python projects\\logprocess\\newlog.csv'\nWITH (\n\tFIELDTERMINATOR = ',',\n\tROWTERMINATOR = '\\n',\n\tFIRSTROW = 2\n\t)",
      "metadata": {},
      "execution_count": null,
      "outputs": []
    },
    {
      "cell_type": "markdown",
      "source": "## 4. Date Format codes",
      "metadata": {}
    },
    {
      "cell_type": "code",
      "source": "DATE ONLY FORMATS\nFormat #\tQuery\tFormat\tSample\n1\tselect convert(varchar, getdate(), 1)\tmm/dd/yy\t12/30/06\n2\tselect convert(varchar, getdate(), 2)\tyy.mm.dd\t06.12.30\n3\tselect convert(varchar, getdate(), 3)\tdd/mm/yy\t30/12/06\n4\tselect convert(varchar, getdate(), 4)\tdd.mm.yy\t30.12.06\n5\tselect convert(varchar, getdate(), 5)\tdd-mm-yy\t30-12-06\n6\tselect convert(varchar, getdate(), 6)\tdd-Mon-yy\t30 Dec 06\n7\tselect convert(varchar, getdate(), 7)\tMon dd, yy\tDec 30, 06\n10\tselect convert(varchar, getdate(), 10)\tmm-dd-yy\t12-30-06\n11\tselect convert(varchar, getdate(), 11)\tyy/mm/dd\t06/12/30\n12\tselect convert(varchar, getdate(), 12)\tyymmdd\t061230\n23\tselect convert(varchar, getdate(), 23)\tyyyy-mm-dd\t2006-12-30\n101\tselect convert(varchar, getdate(), 101)\tmm/dd/yyyy\t12/30/2006\n102\tselect convert(varchar, getdate(), 102)\tyyyy.mm.dd\t2006.12.30\n103\tselect convert(varchar, getdate(), 103)\tdd/mm/yyyy\t30/12/2006\n104\tselect convert(varchar, getdate(), 104)\tdd.mm.yyyy\t30.12.2006\n105\tselect convert(varchar, getdate(), 105)\tdd-mm-yyyy\t30-12-2006\n106\tselect convert(varchar, getdate(), 106)\tdd Mon yyyy\t30 Dec 2006\n107\tselect convert(varchar, getdate(), 107)\tMon dd, yyyy\tDec 30, 2006\n110\tselect convert(varchar, getdate(), 110)\tmm-dd-yyyy\t12-30-2006\n111\tselect convert(varchar, getdate(), 111)\tyyyy/mm/dd\t2006/12/30\n112\tselect convert(varchar, getdate(), 112)\tyyyymmdd\t20061230",
      "metadata": {},
      "execution_count": null,
      "outputs": []
    },
    {
      "cell_type": "markdown",
      "source": "## 5. Default format date is saved in SQL Server",
      "metadata": {}
    },
    {
      "cell_type": "code",
      "source": "YYYY-MM-DD",
      "metadata": {},
      "execution_count": null,
      "outputs": []
    },
    {
      "cell_type": "markdown",
      "source": "## 6. Convert date format manually while inserting",
      "metadata": {}
    },
    {
      "cell_type": "code",
      "source": "INSERT INTO logs (Date)\nVALUES (CONVERT(date,'22-12-2016',105))",
      "metadata": {},
      "execution_count": null,
      "outputs": []
    },
    {
      "cell_type": "markdown",
      "source": "## 7. Convert date while Bulk Insert",
      "metadata": {}
    },
    {
      "cell_type": "code",
      "source": "SET DATEFORMAT dmy\nBULK INSERT logs\nFROM 'F:\\python projects\\logprocess\\newlog.csv'\nWITH (\n\tFIELDTERMINATOR = ',',\n\tROWTERMINATOR = '\\n',\n\tFIRSTROW = 2\n\t)",
      "metadata": {},
      "execution_count": null,
      "outputs": []
    },
    {
      "cell_type": "markdown",
      "source": "## 8. Data Manipulations",
      "metadata": {}
    },
    {
      "cell_type": "markdown",
      "source": "### 1. SELECT",
      "metadata": {}
    },
    {
      "cell_type": "code",
      "source": "SELECT * FROM logs\nSELECT TOP 100 * FROM logs\nSELECT TOP 100 Date FROM logs",
      "metadata": {},
      "execution_count": null,
      "outputs": []
    },
    {
      "cell_type": "code",
      "source": "### 2.",
      "metadata": {},
      "execution_count": null,
      "outputs": []
    }
  ]
}